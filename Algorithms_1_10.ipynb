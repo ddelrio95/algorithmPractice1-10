{
  "nbformat": 4,
  "nbformat_minor": 0,
  "metadata": {
    "colab": {
      "name": "Algorithms 1-10",
      "provenance": [],
      "collapsed_sections": [],
      "include_colab_link": true
    },
    "kernelspec": {
      "display_name": "Python 3",
      "name": "python3"
    }
  },
  "cells": [
    {
      "cell_type": "markdown",
      "metadata": {
        "id": "view-in-github",
        "colab_type": "text"
      },
      "source": [
        "<a href=\"https://colab.research.google.com/github/ddelrio95/algorithmPractice1-10/blob/master/Algorithms_1_10.ipynb\" target=\"_parent\"><img src=\"https://colab.research.google.com/assets/colab-badge.svg\" alt=\"Open In Colab\"/></a>"
      ]
    },
    {
      "cell_type": "markdown",
      "metadata": {
        "id": "bsUMeHR1bLfA",
        "colab_type": "text"
      },
      "source": [
        "**1**. Write a C program to compute the sum of the two given integer values. If the two values are the same, then return triple their sum.  \n",
        "Expected Output: \n",
        "3\n",
        "12\n"
      ]
    },
    {
      "cell_type": "code",
      "metadata": {
        "id": "SlVCUM-YbPyX",
        "colab_type": "code",
        "colab": {}
      },
      "source": [
        "print(1 + 2)\n",
        "x = 2\n",
        "y = 2\n",
        "if(x == y):\n",
        "  print(x + y * 5)\n"
      ],
      "execution_count": 0,
      "outputs": []
    },
    {
      "cell_type": "markdown",
      "metadata": {
        "id": "uRevLe6qaA3N",
        "colab_type": "text"
      },
      "source": [
        "2. Write a C program to get the absolute difference between n and 51. If n is greater than 51 return triple the absolute difference.  \n",
        "Expected Output: \n",
        "6\n",
        "21\n",
        "0\n"
      ]
    },
    {
      "cell_type": "code",
      "metadata": {
        "id": "OKfRsi7yaIHr",
        "colab_type": "code",
        "colab": {}
      },
      "source": [
        "#n = int(input(\"Enter a number \"))\n",
        "n = 5\n",
        "g = 51\n",
        "result = g - n \n",
        "#print(result)\n",
        "#while n < g:\n",
        "if (n > g):\n",
        "print(result * 3)\n",
        "else:\n",
        "  print(result)\n"
      ],
      "execution_count": 0,
      "outputs": []
    },
    {
      "cell_type": "markdown",
      "metadata": {
        "id": "B6A6lGpXaLEa",
        "colab_type": "text"
      },
      "source": [
        "3. Write a C program to check two given integers, and return true if one of them is 30 or if their sum is 30.  \n",
        "Expected Output: \n",
        "1\n",
        "1\n",
        "0\n"
      ]
    },
    {
      "cell_type": "code",
      "metadata": {
        "id": "NCJ3WA1daOrD",
        "colab_type": "code",
        "colab": {}
      },
      "source": [
        "n1 = 10\n",
        "n2 = 20\n",
        "sum = n1 + n2\n",
        "\n",
        "#to check if the sum of bouth are 30\n",
        "if(sum == 30):\n",
        "  print('true')\n",
        "else:\n",
        "  print('false')\n",
        "\n",
        "#to check if any entered number is 30\n",
        "if(n1 or n2) == 30:\n",
        "  print('true')\n",
        "else:\n",
        "  print('false')\n"
      ],
      "execution_count": 0,
      "outputs": []
    },
    {
      "cell_type": "markdown",
      "metadata": {
        "id": "hvM6xIQMaPjd",
        "colab_type": "text"
      },
      "source": [
        "4. Write a C program to check a given integer and return true if it is within 10 of 100 or 200.  \n",
        "Expected Output: \n",
        "1\n",
        "1\n",
        "0\n"
      ]
    },
    {
      "cell_type": "code",
      "metadata": {
        "id": "wQrIIFEIaSzD",
        "colab_type": "code",
        "colab": {}
      },
      "source": [
        "a = 300\n",
        "\n",
        "#10 of 100\n",
        "if(a >= 10 and a <= 100):\n",
        "  print('true')\n",
        "else:\n",
        "  print('false')\n",
        "\n",
        "#100 of 200\n",
        "if(a >= 100 and a <= 200):\n",
        "  print('true')\n",
        "else:\n",
        "  print('false')\n"
      ],
      "execution_count": 0,
      "outputs": []
    },
    {
      "cell_type": "markdown",
      "metadata": {
        "id": "WuZGY1I-aUIz",
        "colab_type": "text"
      },
      "source": [
        "5. Write a C program to check if a given positive number is a multiple of 3 or a multiple of 7.  \n",
        "Expected Output: \n",
        "1\n",
        "1\n",
        "1\n",
        "0\n"
      ]
    },
    {
      "cell_type": "code",
      "metadata": {
        "id": "V7QH4XomaX1T",
        "colab_type": "code",
        "colab": {}
      },
      "source": [
        "n = 7\n",
        "if(n % 3 == 0) or (n % 7 == 0):\n",
        "  print('yes')\n",
        "else:\n",
        "  print('no')\n",
        "  "
      ],
      "execution_count": 0,
      "outputs": []
    },
    {
      "cell_type": "markdown",
      "metadata": {
        "id": "cLLm4z3-aZAb",
        "colab_type": "text"
      },
      "source": [
        "6. Write a C program to check if one given temperatures is less than 0 and the other is greater than 100.  \n",
        "Expected Output: \n",
        "1\n",
        "1\n",
        "0\n"
      ]
    },
    {
      "cell_type": "code",
      "metadata": {
        "id": "SEYs60Y1abb7",
        "colab_type": "code",
        "colab": {}
      },
      "source": [
        "temp1 = int(input('Enter the first temperature: '))\n",
        "temp2 = int(input('Enter the second temperature: '))\n",
        "\n",
        "if(temp1 < 0):\n",
        "  print('The temperatre is below 0')\n",
        "else:\n",
        "  print('No, the temperature is above 0')\n",
        "\n",
        "if(temp2 > 100):\n",
        "  print('The temperature is above 100')\n",
        "else:\n",
        "  print('No, the temperature is below 100')\n"
      ],
      "execution_count": 0,
      "outputs": []
    },
    {
      "cell_type": "markdown",
      "metadata": {
        "id": "xC9o--16abub",
        "colab_type": "text"
      },
      "source": [
        "7. Write a C program to check two given integers whether either of them is in the range 100..200 inclusive.  \n",
        "Expected Output: \n",
        "1\n",
        "0\n",
        "1\n"
      ]
    },
    {
      "cell_type": "code",
      "metadata": {
        "id": "D6N89XegadQr",
        "colab_type": "code",
        "colab": {}
      },
      "source": [
        "n1 = int(input('Enter the first number '))\n",
        "n2 = int(input('Enter the second number '))\n",
        "\n",
        "if(n1, n2 >= 100 and n1, n2 <= 200 ):\n",
        "  print('The numbers are in range')\n"
      ],
      "execution_count": 0,
      "outputs": []
    },
    {
      "cell_type": "markdown",
      "metadata": {
        "id": "iHlb3rvZadZY",
        "colab_type": "text"
      },
      "source": [
        "8. Write a C program to check whether three given integer values are in the range 20..50 inclusive. Return true if 1 or more of them are in the said range otherwise return false.  \n",
        "Expected Output: \n",
        "1\n",
        "1\n",
        "1\n",
        "0\n"
      ]
    },
    {
      "cell_type": "code",
      "metadata": {
        "id": "xFqhXbT4af1L",
        "colab_type": "code",
        "colab": {}
      },
      "source": [
        "n1 = bool(input('Eneter the first number: '))\n",
        "n2 = bool(input('Eneter the second number: '))\n",
        "n3 = bool(input('Eneter the third number: '))\n",
        "\n",
        "if(n1, n2, n3 >= 20 and n1, n2, n3 <= 50):\n",
        "  print('The numbers are in range')\n",
        "else:\n",
        "  print('One or more of them is not')\n",
        "if()\n",
        "  "
      ],
      "execution_count": 0,
      "outputs": []
    },
    {
      "cell_type": "markdown",
      "metadata": {
        "id": "Z0UbCb5sagdS",
        "colab_type": "text"
      },
      "source": [
        "9. Write a C program to check whether two given integer values are in the range 20..50 inclusive. Return true if 1 or other is in the said range otherwise false.  \n",
        "Expected Output: \n",
        "1\n",
        "1\n",
        "1\n",
        "0\n"
      ]
    },
    {
      "cell_type": "code",
      "metadata": {
        "id": "ZDFd7iPYajES",
        "colab_type": "code",
        "colab": {}
      },
      "source": [
        ""
      ],
      "execution_count": 0,
      "outputs": []
    },
    {
      "cell_type": "markdown",
      "metadata": {
        "id": "q7u2191oajn7",
        "colab_type": "text"
      },
      "source": [
        "10. Write a C program to check which number nearest to the value 100 among two given integers. Return 0 if the two numbers are equal.  \n",
        "Expected Output: \n",
        "95\n",
        "0\n",
        "99\n"
      ]
    },
    {
      "cell_type": "code",
      "metadata": {
        "id": "gciIfnkaamkr",
        "colab_type": "code",
        "colab": {}
      },
      "source": [
        "n1 = int(input('Enter the first number: '))\n",
        "n2 = int(input('Enter the second number: '))\n",
        "\n",
        "while n1 > 100:\n",
        "    print('Enter a value smaller than 100')\n",
        "    break\n",
        "\n",
        "if(n1 > n2):\n",
        "  print(n1)\n",
        "else:\n",
        "  print(n2)"
      ],
      "execution_count": 0,
      "outputs": []
    },
    {
      "cell_type": "code",
      "metadata": {
        "id": "28kweEkAKe4U",
        "colab_type": "code",
        "colab": {}
      },
      "source": [
        ""
      ],
      "execution_count": 0,
      "outputs": []
    }
  ]
}