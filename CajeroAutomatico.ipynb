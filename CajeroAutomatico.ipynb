{
  "nbformat": 4,
  "nbformat_minor": 0,
  "metadata": {
    "colab": {
      "name": "CajeroAutomatico.ipynb",
      "provenance": [],
      "collapsed_sections": [],
      "authorship_tag": "ABX9TyOJXG/7XDZFXvgId45VTKve",
      "include_colab_link": true
    },
    "kernelspec": {
      "name": "python3",
      "display_name": "Python 3"
    }
  },
  "cells": [
    {
      "cell_type": "markdown",
      "metadata": {
        "id": "view-in-github",
        "colab_type": "text"
      },
      "source": [
        "<a href=\"https://colab.research.google.com/github/ddelrio95/algorithmPractice1-10/blob/master/CajeroAutomatico.ipynb\" target=\"_parent\"><img src=\"https://colab.research.google.com/assets/colab-badge.svg\" alt=\"Open In Colab\"/></a>"
      ]
    },
    {
      "cell_type": "code",
      "metadata": {
        "id": "EIaAMh3dQ4bP",
        "colab_type": "code",
        "colab": {}
      },
      "source": [
        "usuarioEnBD = \"neo\"\n",
        "claveEnBD = \"123456\"\n",
        "saldo = 1000\n"
      ],
      "execution_count": 0,
      "outputs": []
    },
    {
      "cell_type": "code",
      "metadata": {
        "id": "zQG-AA9facr9",
        "colab_type": "code",
        "colab": {}
      },
      "source": [
        "#validar el usuario\n",
        "def validUsuario(u, c):\n",
        "  if u == usuarioEnBD and c == claveEnBD:\n",
        "    return True\n",
        "  return False\n",
        "  "
      ],
      "execution_count": 0,
      "outputs": []
    },
    {
      "cell_type": "code",
      "metadata": {
        "id": "ddxzn_XqagVc",
        "colab_type": "code",
        "colab": {}
      },
      "source": [
        "#login\n",
        "def login():\n",
        "  print(\"Bienvenido\")\n",
        "  usuario = input(\"digite usuario \")\n",
        "  clave = input(\"digite contrasena \")\n",
        "  return validUsuario(usuario, clave)\n",
        "  "
      ],
      "execution_count": 0,
      "outputs": []
    },
    {
      "cell_type": "code",
      "metadata": {
        "id": "uAOe7LYtak1E",
        "colab_type": "code",
        "colab": {}
      },
      "source": [
        "#retirar\n",
        "def retirar(valor):\n",
        "  if valor > saldo: \n",
        "    return False, saldo\n",
        "\n",
        "  return True, saldo - valor \n",
        "  "
      ],
      "execution_count": 0,
      "outputs": []
    },
    {
      "cell_type": "code",
      "metadata": {
        "id": "EEA1ShJ5aqFN",
        "colab_type": "code",
        "colab": {}
      },
      "source": [
        "#depositar\n",
        "def depositar(valor):\n",
        "  return True, saldo + valor\n",
        "  "
      ],
      "execution_count": 0,
      "outputs": []
    },
    {
      "cell_type": "code",
      "metadata": {
        "id": "juu2MxB-at9k",
        "colab_type": "code",
        "colab": {}
      },
      "source": [
        "#accion\n",
        "def accion(opcion):\n",
        "  if opcion == 1:\n",
        "    valor = int(input(\"Digite el valor a depositar \"))\n",
        "    return depositar(valor)\n",
        "\n",
        "  if opcion == 2:\n",
        "    valor = int(input(\"Digite el valor a retirat \"))\n",
        "    return retirar(valor)\n",
        "\n",
        "  return False, saldo\n",
        "  "
      ],
      "execution_count": 0,
      "outputs": []
    },
    {
      "cell_type": "code",
      "metadata": {
        "id": "yqfyUqqbavH9",
        "colab_type": "code",
        "colab": {}
      },
      "source": [
        "#ejecutar\n",
        "def ejecutar():\n",
        "  if not login():\n",
        "    print(\"usuario o contrasena incorrecto\")\n",
        "    return\n",
        "\n",
        "  print(\"Que desea hacer?\")\n",
        "  opcion = int(input(\"1. Depositar o 2. Retirar \"))\n",
        "\n",
        "  ok, saldo = accion(opcion)\n",
        "  if not ok:\n",
        "    print(\"no se realizo la transaccion, saldo:\", saldo)\n",
        "  else:\n",
        "    print(\"transaccion realizada correctamente, saldo:\", saldo)\n",
        "\n",
        "ejecutar()\n"
      ],
      "execution_count": 0,
      "outputs": []
    }
  ]
}